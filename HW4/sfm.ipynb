{
 "cells": [
  {
   "cell_type": "code",
   "execution_count": 1,
   "metadata": {},
   "outputs": [],
   "source": [
    "import cv2\n",
    "import numpy as np\n",
    "import os\n",
    "from scipy.optimize import least_squares\n",
    "from tomlkit import boolean\n",
    "from tqdm import tqdm\n",
    "import matplotlib.pyplot as plt\n",
    "\n",
    "from hw3_defs import get_all_matches, normalize_images, grayscale_images, find_features"
   ]
  },
  {
   "cell_type": "code",
   "execution_count": 2,
   "metadata": {},
   "outputs": [],
   "source": [
    "class Image_loader():\n",
    "    def __init__(self, img_dir:str, downscale_factor:float, K):\n",
    "        # loading the Camera intrinsic parameters K\n",
    "        # with open(img_dir + '/K.txt') as f:\n",
    "        #     self.K = np.array(list((map(lambda x:list(map(lambda x:float(x), x.strip().split(' '))),f.read().split('\\n')))))\n",
    "        #     self.image_list = []\n",
    "        self.K = K\n",
    "        self.image_list = []\n",
    "        # Loading the set of images\n",
    "        for image in sorted(os.listdir(img_dir)):\n",
    "            if image[-4:].lower() == '.jpg' or image[-4:].lower() == '.png':\n",
    "                self.image_list.append(img_dir + '/' + image)\n",
    "        \n",
    "        self.path = os.getcwd()\n",
    "        self.factor = downscale_factor\n",
    "        self.downscale()\n",
    "\n",
    "    \n",
    "    def downscale(self) -> None:\n",
    "        '''\n",
    "        Downscales the Image intrinsic parameter acc to the downscale factor\n",
    "        '''\n",
    "        self.K[0, 0] /= self.factor\n",
    "        self.K[1, 1] /= self.factor\n",
    "        self.K[0, 2] /= self.factor\n",
    "        self.K[1, 2] /= self.factor\n",
    "    \n",
    "    def downscale_image(self, image):\n",
    "        for _ in range(1,int(self.factor / 2) + 1):\n",
    "            image = cv2.pyrDown(image)\n",
    "        return image"
   ]
  },
  {
   "cell_type": "code",
   "execution_count": 3,
   "metadata": {},
   "outputs": [],
   "source": [
    "import sys\n",
    "from os import path as os_path\n",
    "file_path = os_path.dirname(os_path.realpath(''))\n",
    "img_dir = file_path + \"/HW4/buddha_images\"\n",
    "\n",
    "# I don't want to downscale images???\n",
    "downscale_factor = 2.0\n",
    "\n",
    "# Camera intrinsics\n",
    "K = np.array([[1600.0, 0.0, 960.0],\n",
    "              [0.0, 1600.0, 540.0],\n",
    "              [0.0,0.0,1.0]])\n",
    "\n",
    "img_obj = Image_loader(img_dir,downscale_factor,K)\n",
    "\n",
    "imgs = []\n",
    "for file_path1 in img_obj.image_list: \n",
    "    imgs.append(img_obj.downscale_image(cv2.imread(file_path1)))\n",
    "\n",
    "imgs_norm = normalize_images(imgs)\n",
    "imgs_gray = grayscale_images(imgs_norm)"
   ]
  },
  {
   "cell_type": "code",
   "execution_count": 4,
   "metadata": {},
   "outputs": [],
   "source": [
    "# Same Hyperparameter settings as HW3\n",
    "# sift = cv2.SIFT_create(nfeatures=5000, nOctaveLayers=16, contrastThreshold=0.025, edgeThreshold=10, sigma=1.4)\n",
    "\n",
    "# kp, des, imgs_sift = find_features(sift, imgs_gray)\n",
    "\n",
    "feature_matches = get_all_matches(imgs, print_matches=False)\n"
   ]
  },
  {
   "cell_type": "code",
   "execution_count": 5,
   "metadata": {},
   "outputs": [],
   "source": [
    "\n",
    "def optimal_reprojection_error(obj_points) -> np.array:\n",
    "    '''\n",
    "    calculates of the reprojection error during bundle adjustment\n",
    "    returns error \n",
    "    '''\n",
    "    transform_matrix = obj_points[0:12].reshape((3,4))\n",
    "    K = obj_points[12:21].reshape((3,3))\n",
    "    rest = int(len(obj_points[21:]) * 0.4)\n",
    "    p = obj_points[21:21 + rest].reshape((2, int(rest/2))).T\n",
    "    obj_points = obj_points[21 + rest:].reshape((int(len(obj_points[21 + rest:])/3), 3))\n",
    "    rot_matrix = transform_matrix[:3, :3]\n",
    "    tran_vector = transform_matrix[:3, 3]\n",
    "    rot_vector, _ = cv2.Rodrigues(rot_matrix)\n",
    "    image_points, _ = cv2.projectPoints(obj_points, rot_vector, tran_vector, K, None)\n",
    "    image_points = image_points[:, 0, :]\n",
    "    error = [ (p[idx] - image_points[idx])**2 for idx in range(len(p))]\n",
    "    return np.array(error).ravel()/len(p)\n",
    "\n",
    "def bundle_adjustment(_3d_point, opt, transform_matrix_new, K, r_error) -> tuple:\n",
    "    '''\n",
    "    Bundle adjustment for the image and object points\n",
    "    returns object points, image points, transformation matrix\n",
    "    '''\n",
    "    opt_variables = np.hstack((transform_matrix_new.ravel(), K.ravel()))\n",
    "    opt_variables = np.hstack((opt_variables, opt.ravel()))\n",
    "    opt_variables = np.hstack((opt_variables, _3d_point.ravel()))\n",
    "\n",
    "    values_corrected = least_squares(optimal_reprojection_error, opt_variables, gtol = r_error).x\n",
    "    K = values_corrected[12:21].reshape((3,3))\n",
    "    rest = int(len(values_corrected[21:]) * 0.4)\n",
    "    return values_corrected[21 + rest:].reshape((int(len(values_corrected[21 + rest:])/3), 3)), values_corrected[21:21 + rest].reshape((2, int(rest/2))).T, values_corrected[0:12].reshape((3,4))\n",
    "\n",
    "def to_ply(path, point_cloud, colors) -> None:\n",
    "    '''\n",
    "    Generates the .ply which can be used to open the point cloud\n",
    "    '''\n",
    "    out_points = point_cloud.reshape(-1, 3) * 200\n",
    "    out_colors = colors.reshape(-1, 3)\n",
    "    print(out_colors.shape, out_points.shape)\n",
    "    verts = np.hstack([out_points, out_colors])\n",
    "\n",
    "\n",
    "    mean = np.mean(verts[:, :3], axis=0)\n",
    "    scaled_verts = verts[:, :3] - mean\n",
    "    dist = np.sqrt(scaled_verts[:, 0] ** 2 + scaled_verts[:, 1] ** 2 + scaled_verts[:, 2] ** 2)\n",
    "    indx = np.where(dist < np.mean(dist) + 300)\n",
    "    verts = verts[indx]\n",
    "    ply_header = '''ply\n",
    "        format ascii 1.0\n",
    "        element vertex %(vert_num)d\n",
    "        property float x\n",
    "        property float y\n",
    "        property float z\n",
    "        property uchar blue\n",
    "        property uchar green\n",
    "        property uchar red\n",
    "        end_header\n",
    "        '''\n",
    "    with open(path + '/HW4/res1/' + 'myPC1.ply', 'w') as f:\n",
    "        f.write(ply_header % dict(vert_num=len(verts)))\n",
    "        np.savetxt(f, verts, '%f %f %f %d %d %d')"
   ]
  },
  {
   "cell_type": "code",
   "execution_count": 6,
   "metadata": {},
   "outputs": [],
   "source": [
    "enable_bundle_adjustment = False"
   ]
  },
  {
   "cell_type": "markdown",
   "metadata": {},
   "source": [
    "# Find Feature Matches"
   ]
  },
  {
   "cell_type": "code",
   "execution_count": 7,
   "metadata": {},
   "outputs": [],
   "source": [
    "transform_matrix_0 = np.eye(4)[:3,:]\n",
    "pose_array = img_obj.K.ravel()\n",
    "\n",
    "pose_0 = np.matmul(img_obj.K, transform_matrix_0)\n",
    "pose_1 = np.empty((3, 4)) \n",
    "total_points = np.zeros((1, 3))\n",
    "total_colors = np.zeros((1, 3))\n",
    "\n",
    "feature_0, feature_1 = feature_matches[0]"
   ]
  },
  {
   "cell_type": "markdown",
   "metadata": {},
   "source": [
    "# Find Essential Matrix"
   ]
  },
  {
   "cell_type": "code",
   "execution_count": 8,
   "metadata": {},
   "outputs": [],
   "source": [
    "def get_essential_matrix(points1, points2):\n",
    "    # Essential matrix\n",
    "    essential_matrix, em_mask = cv2.findEssentialMat(points1, points2, img_obj.K, method=cv2.RANSAC, prob=0.999, threshold=0.4, mask=None)\n",
    "    # Only keep inlier points\n",
    "    points1 = feature_0[em_mask.ravel() == 1]\n",
    "    points2 = feature_1[em_mask.ravel() == 1]\n",
    "\n",
    "    return essential_matrix, em_mask, (points1, points2)"
   ]
  },
  {
   "cell_type": "code",
   "execution_count": 9,
   "metadata": {},
   "outputs": [],
   "source": [
    "essential_matrix, em_mask, (feature_0, feature_1) = get_essential_matrix(feature_0, feature_1)"
   ]
  },
  {
   "cell_type": "markdown",
   "metadata": {},
   "source": [
    "# Recover Pose\n",
    "Recover Pose from the essential matrix using cv2.recoverPose.<br>\n",
    "This method returns triangulated 3D points that pass the cheirality check"
   ]
  },
  {
   "cell_type": "code",
   "execution_count": 10,
   "metadata": {},
   "outputs": [],
   "source": [
    "def get_pose(essential_matrix, em_mask, pts1, pts2):\n",
    "    _, rot_matrix, tran_matrix, em_mask = cv2.recoverPose(essential_matrix, pts1, pts2, img_obj.K)\n",
    "\n",
    "    transformation_matrix = np.hstack((rot_matrix, tran_matrix))\n",
    "\n",
    "    # Apply Cheirality check to points\n",
    "    f_pts1 = pts1[em_mask.ravel() > 0]\n",
    "    f_pts2 = pts2[em_mask.ravel() > 0]\n",
    "\n",
    "    return transformation_matrix, f_pts1, f_pts2"
   ]
  },
  {
   "cell_type": "code",
   "execution_count": 11,
   "metadata": {},
   "outputs": [],
   "source": [
    "transformation_matrix_1, feature_0, feature_1 = get_pose(essential_matrix, em_mask, feature_0, feature_1)"
   ]
  },
  {
   "cell_type": "markdown",
   "metadata": {},
   "source": [
    "# Triangulation"
   ]
  },
  {
   "cell_type": "code",
   "execution_count": 12,
   "metadata": {},
   "outputs": [],
   "source": [
    "def triangulation(point_2d_1, point_2d_2, projection_matrix_1, projection_matrix_2) -> tuple:\n",
    "    '''\n",
    "    Triangulates 3d points from 2d vectors and projection matrices\n",
    "    returns projection matrix of first camera, projection matrix of second camera, point cloud \n",
    "    '''\n",
    "    pt_cloud = cv2.triangulatePoints(point_2d_1, point_2d_2, projection_matrix_1.T, projection_matrix_2.T)\n",
    "    return projection_matrix_1.T, projection_matrix_2.T, (pt_cloud / pt_cloud[3])    \n"
   ]
  },
  {
   "cell_type": "code",
   "execution_count": 13,
   "metadata": {},
   "outputs": [],
   "source": [
    "pose_1 = np.matmul(img_obj.K, transformation_matrix_1)\n",
    "\n",
    "feature_0_new, feature_1_new, points_3d = triangulation(pose_0, pose_1, feature_0, feature_1)"
   ]
  },
  {
   "cell_type": "markdown",
   "metadata": {},
   "source": [
    "# Reprojection Error"
   ]
  },
  {
   "cell_type": "code",
   "execution_count": 14,
   "metadata": {},
   "outputs": [],
   "source": [
    "def reprojection_error(obj_points, image_points, transform_matrix, K, homogenity) ->tuple:\n",
    "    '''\n",
    "    Calculates the reprojection error ie the distance between the projected points and the actual points.\n",
    "    returns total error, object points\n",
    "    '''\n",
    "    rot_matrix = transform_matrix[:3, :3]\n",
    "    tran_vector = transform_matrix[:3, 3]\n",
    "    rot_vector, _ = cv2.Rodrigues(rot_matrix)\n",
    "    if homogenity == 1:\n",
    "        obj_points = cv2.convertPointsFromHomogeneous(obj_points.T)\n",
    "    image_points_calc, _ = cv2.projectPoints(obj_points, rot_vector, tran_vector, K, None)\n",
    "    image_points_calc = np.float32(image_points_calc[:, 0, :])\n",
    "    total_error = cv2.norm(image_points_calc, np.float32(image_points.T) if homogenity == 1 else np.float32(image_points), cv2.NORM_L2)\n",
    "    return total_error / len(image_points_calc), obj_points"
   ]
  },
  {
   "cell_type": "code",
   "execution_count": 15,
   "metadata": {},
   "outputs": [
    {
     "name": "stdout",
     "output_type": "stream",
     "text": [
      "REPROJECTION ERROR:  0.006156572540759718\n"
     ]
    }
   ],
   "source": [
    "error, points_3d_new = reprojection_error(points_3d, feature_1_new, transformation_matrix_1, img_obj.K, homogenity = 1)\n",
    "#ideally error < 1\n",
    "print(\"REPROJECTION ERROR: \", error)"
   ]
  },
  {
   "cell_type": "markdown",
   "metadata": {},
   "source": [
    "# PnP"
   ]
  },
  {
   "cell_type": "code",
   "execution_count": 18,
   "metadata": {},
   "outputs": [],
   "source": [
    "def PnP(obj_point, image_point , K, dist_coeff, rot_vector, initial) ->  tuple:\n",
    "    '''\n",
    "    Finds an object pose from 3D-2D point correspondences using the RANSAC scheme.\n",
    "    returns rotational matrix, translational matrix, image points, object points, rotational vector\n",
    "    '''\n",
    "    if initial == 1:\n",
    "        obj_point = obj_point[:, 0 ,:]\n",
    "        image_point = image_point.T\n",
    "        rot_vector = rot_vector.T \n",
    "    \n",
    "    _, rot_vector_calc, tran_vector, inlier = cv2.solvePnPRansac(obj_point, image_point, K, dist_coeff, cv2.SOLVEPNP_ITERATIVE)\n",
    "    # Converts a rotation matrix to a rotation vector or vice versa\n",
    "    rot_matrix, _ = cv2.Rodrigues(rot_vector_calc)\n",
    "\n",
    "    if inlier is not None:\n",
    "        image_point = image_point[inlier[:, 0]]\n",
    "        obj_point = obj_point[inlier[:, 0]]\n",
    "        rot_vector = rot_vector[inlier[:, 0]]\n",
    "    return np.hstack((rot_matrix, tran_vector)), image_point, obj_point, rot_vector"
   ]
  },
  {
   "cell_type": "code",
   "execution_count": 20,
   "metadata": {},
   "outputs": [],
   "source": [
    "_, feature_1_pnp, points_3d_pnp, _ = PnP(points_3d_new, feature_1_new, img_obj.K, np.zeros((5, 1), dtype=np.float32), feature_0_new, initial=1)"
   ]
  },
  {
   "cell_type": "markdown",
   "metadata": {},
   "source": [
    "# Loop for all Images"
   ]
  },
  {
   "cell_type": "code",
   "execution_count": 21,
   "metadata": {},
   "outputs": [],
   "source": [
    "def common_points(image_points_1, image_points_2, image_points_3) -> tuple:\n",
    "    '''\n",
    "    Finds the common points between image 1 and 2 , image 2 and 3\n",
    "    returns common points of image 1-2, common points of image 2-3, mask of common points 1-2 , mask for common points 2-3 \n",
    "    '''\n",
    "    cm_points_1 = []\n",
    "    cm_points_2 = []\n",
    "    for i in range(image_points_1.shape[0]):\n",
    "        a = np.where(image_points_2 == image_points_1[i, :])\n",
    "        if a[0].size != 0:\n",
    "            cm_points_1.append(i)\n",
    "            cm_points_2.append(a[0][0])\n",
    "\n",
    "    mask_array_1 = np.ma.array(image_points_2, mask=False)\n",
    "    mask_array_1.mask[cm_points_2] = True\n",
    "    mask_array_1 = mask_array_1.compressed()\n",
    "    mask_array_1 = mask_array_1.reshape(int(mask_array_1.shape[0] / 2), 2)\n",
    "\n",
    "    mask_array_2 = np.ma.array(image_points_3, mask=False)\n",
    "    mask_array_2.mask[cm_points_2] = True\n",
    "    mask_array_2 = mask_array_2.compressed()\n",
    "    mask_array_2 = mask_array_2.reshape(int(mask_array_2.shape[0] / 2), 2)\n",
    "    print(\" Shape New Array\", mask_array_1.shape, mask_array_2.shape)\n",
    "    return np.array(cm_points_1), np.array(cm_points_2), mask_array_1, mask_array_2"
   ]
  },
  {
   "cell_type": "code",
   "execution_count": 22,
   "metadata": {},
   "outputs": [
    {
     "name": "stderr",
     "output_type": "stream",
     "text": [
      "100%|██████████| 20/20 [00:00<00:00, 195.52it/s]"
     ]
    },
    {
     "name": "stdout",
     "output_type": "stream",
     "text": [
      " Shape New Array (230, 2) (230, 2)\n",
      "Reprojection Error:  4.16679380656944\n",
      " Shape New Array (238, 2) (238, 2)\n",
      "Reprojection Error:  1.5356444757322385\n",
      " Shape New Array (307, 2) (307, 2)\n",
      "Reprojection Error:  4.171738544813878\n",
      " Shape New Array (274, 2) (274, 2)\n",
      "Reprojection Error:  11.054346253274444\n",
      " Shape New Array (198, 2) (198, 2)\n",
      "Reprojection Error:  14.466101224411682\n",
      " Shape New Array (262, 2) (262, 2)\n",
      "Reprojection Error:  32.619487694417685\n",
      " Shape New Array (222, 2) (222, 2)\n",
      "Reprojection Error:  5.4476219984359195\n",
      " Shape New Array (258, 2) (258, 2)\n",
      "Reprojection Error:  10.514970878751674\n",
      " Shape New Array (402, 2) (402, 2)\n",
      "Reprojection Error:  20.66441773776696\n",
      " Shape New Array (166, 2) (166, 2)\n",
      "Reprojection Error:  13.13063453870845\n",
      " Shape New Array (163, 2) (163, 2)\n",
      "Reprojection Error:  0.3892490540841538\n",
      " Shape New Array (405, 2) (405, 2)\n",
      "Reprojection Error:  11.144058807670545\n",
      " Shape New Array (305, 2) (305, 2)\n",
      "Reprojection Error:  7.75690118714027\n",
      " Shape New Array (333, 2) (333, 2)\n",
      "Reprojection Error:  47.12137163273863\n",
      " Shape New Array (341, 2) (341, 2)\n",
      "Reprojection Error:  0.4962095541571984\n",
      " Shape New Array (299, 2) (299, 2)\n",
      "Reprojection Error:  1.8693150723967815\n",
      " Shape New Array (490, 2) (490, 2)\n",
      "Reprojection Error:  10.407096827439426\n",
      " Shape New Array (362, 2) (362, 2)\n",
      "Reprojection Error:  1.9572196558048724\n",
      " Shape New Array (294, 2) (294, 2)\n",
      "Reprojection Error:  4.29262982771909\n",
      " Shape New Array (186, 2) (186, 2)\n",
      "Reprojection Error:  4.2507958948485\n",
      "Printing to .ply file\n",
      "(5736, 3) (5736, 3)\n",
      "(5736, 3) (5736, 3)\n",
      "Completed Exiting ...\n"
     ]
    },
    {
     "name": "stderr",
     "output_type": "stream",
     "text": [
      "\n"
     ]
    }
   ],
   "source": [
    "feature_0_loop = feature_0_new\n",
    "feature_1_loop = feature_1_pnp\n",
    "points_3d_loop = points_3d_pnp\n",
    "\n",
    "total_images = len(img_obj.image_list) - 2 \n",
    "pose_array = np.hstack((np.hstack((pose_array, pose_0.ravel())), pose_1.ravel()))\n",
    "\n",
    "threshold = 0.5\n",
    "for i in tqdm(range(total_images)):\n",
    "    # Downscale the Image\n",
    "    # Find and Match Features\n",
    "    features_cur, features_2 = feature_matches[i+1]\n",
    "    \n",
    "    if i != 0:\n",
    "        # Perform Triangulation to get 3D points\n",
    "        feature_0_loop, feature_1_loop, points_3d_loop = triangulation(pose_0, pose_1, feature_0_loop, feature_1_loop)\n",
    "        feature_1_loop = feature_1_loop.T\n",
    "        points_3d_loop = cv2.convertPointsFromHomogeneous(points_3d_loop.T)\n",
    "        points_3d_loop = points_3d_loop[:, 0, :]\n",
    "    \n",
    "    # Finds common points between images\n",
    "    cm_points_0, cm_points_1, cm_mask_0, cm_mask_1 = common_points(feature_1_loop, features_cur, features_2)\n",
    "    cm_points_2 = features_2[cm_points_1]\n",
    "    cm_points_cur = features_cur[cm_points_1]\n",
    "\n",
    "    # Performs PnP\n",
    "    transform_matrix_1, cm_points_2, points_3d_loop, cm_points_cur = PnP(points_3d_loop[cm_points_0], cm_points_2, img_obj.K, np.zeros((5, 1), dtype=np.float32), cm_points_cur, initial = 0)\n",
    "    pose_2 = np.matmul(img_obj.K, transform_matrix_1)\n",
    "\n",
    "    error, points_3d_loop = reprojection_error(points_3d_loop, cm_points_2, transform_matrix_1, img_obj.K, homogenity = 0)\n",
    "\n",
    "    \n",
    "    cm_mask_0, cm_mask_1, points_3d_loop = triangulation(pose_1, pose_2, cm_mask_0, cm_mask_1)\n",
    "    error, points_3d_loop = reprojection_error(points_3d_loop, cm_mask_1, transform_matrix_1, img_obj.K, homogenity = 1)\n",
    "    print(\"Reprojection Error: \", error)\n",
    "    pose_array = np.hstack((pose_array, pose_2.ravel()))\n",
    "    # takes a long time to run\n",
    "    if enable_bundle_adjustment:\n",
    "        points_3d_loop, cm_mask_1, transform_matrix_1 = bundle_adjustment(points_3d_loop, cm_mask_1, transform_matrix_1, img_obj.K, threshold)\n",
    "        pose_2 = np.matmul(img_obj.K, transform_matrix_1)\n",
    "        error, points_3d_loop = reprojection_error(points_3d_loop, cm_mask_1, transform_matrix_1, img_obj.K, homogenity = 0)\n",
    "        print(\"Bundle Adjusted error: \",error)\n",
    "        total_points = np.vstack((total_points, points_3d_loop))\n",
    "        points_left = np.array(cm_mask_1, dtype=np.int32)\n",
    "        color_vector = np.array([image_2[l[1], l[0]] for l in points_left])\n",
    "        total_colors = np.vstack((total_colors, color_vector))\n",
    "    else:\n",
    "        total_points = np.vstack((total_points, points_3d_loop[:, 0, :]))\n",
    "        points_left = np.array(cm_mask_1, dtype=np.int32)\n",
    "        color_vector = np.array([imgs[i+2][l[1], l[0]] for l in points_left.T])\n",
    "        total_colors = np.vstack((total_colors, color_vector)) \n",
    "\n",
    "\n",
    "\n",
    "    transform_matrix_0 = np.copy(transform_matrix_1)\n",
    "    pose_0 = np.copy(pose_1)\n",
    "    # plt.scatter(i, error)\n",
    "    # plt.pause(0.05)\n",
    "\n",
    "    feature_0_loop = np.copy(features_cur)\n",
    "    feature_1_loop = np.copy(features_2)\n",
    "    pose_1 = np.copy(pose_2)\n",
    "    #cv2.imshow(img_obj.image_list[0].split('/')[-2], image_2)\n",
    "    # if cv2.waitKey(1) & 0xff == ord('q'):\n",
    "    #     break\n",
    "\n",
    "print(\"Printing to .ply file\")\n",
    "print(total_points.shape, total_colors.shape)\n",
    "to_ply(file_path, total_points, total_colors)\n",
    "print(\"Completed Exiting ...\")\n",
    "np.savetxt(file_path + '/HW4/res1/' + 'my1_pose_array.csv', pose_array, delimiter = '\\n')\n"
   ]
  },
  {
   "cell_type": "code",
   "execution_count": 23,
   "metadata": {},
   "outputs": [
    {
     "name": "stdout",
     "output_type": "stream",
     "text": [
      "Jupyter environment detected. Enabling Open3D WebVisualizer.\n",
      "[Open3D INFO] WebRTC GUI backend enabled.\n",
      "[Open3D INFO] WebRTCWindowSystem: HTTP handshake server disabled.\n"
     ]
    },
    {
     "name": "stderr",
     "output_type": "stream",
     "text": [
      "RPly: Aborted by user\n"
     ]
    },
    {
     "name": "stdout",
     "output_type": "stream",
     "text": [
      "\u001b[1;33m[Open3D WARNING] Read PLY failed: unable to read file: /home/meuli/src/eece7150/HW4/res1/myPC1.ply\u001b[0;m\n"
     ]
    }
   ],
   "source": [
    "import open3d as o3d\n",
    "\n",
    "pcd = o3d.io.read_point_cloud(file_path + '/HW4/res1/myPC1.ply')\n",
    "o3d.visualization.draw_geometries([pcd],\n",
    "                                  zoom=0.3412,\n",
    "                                  front=[0.4257, -0.2125, -0.8795],\n",
    "                                  lookat=[2.6172, 2.0475, 1.532],\n",
    "                                  up=[-0.0694, -0.9768, 0.2024])"
   ]
  }
 ],
 "metadata": {
  "kernelspec": {
   "display_name": ".venv",
   "language": "python",
   "name": "python3"
  },
  "language_info": {
   "codemirror_mode": {
    "name": "ipython",
    "version": 3
   },
   "file_extension": ".py",
   "mimetype": "text/x-python",
   "name": "python",
   "nbconvert_exporter": "python",
   "pygments_lexer": "ipython3",
   "version": "3.8.10"
  }
 },
 "nbformat": 4,
 "nbformat_minor": 2
}
