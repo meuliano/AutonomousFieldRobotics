{
 "cells": [
  {
   "cell_type": "markdown",
   "metadata": {},
   "source": [
    "# Homework 1\n",
    "\n",
    "Solve problem 2 parts b through d.\n",
    "\n",
    "## Part 2b\n",
    "\n",
    "Write a simulator that can randomly generate sequences of \"weathers\" from the state transition function. "
   ]
  },
  {
   "cell_type": "code",
   "execution_count": 2,
   "metadata": {},
   "outputs": [],
   "source": [
    "import numpy as np\n",
    "import random\n",
    "\n",
    "# Transition matrix: \n",
    "# Rows represent today's weather in the sequence of sunny/cloudy/rainy\n",
    "# Columns represent tomorrow's weather in the sequence of sunny/cloudy/rainy\n",
    "transitionMatrix = np.array([[0.8, 0.2, 0], \n",
    "                            [0.4, 0.4, 0.2], \n",
    "                            [0.2, 0.6, 0.2]])\n",
    "# List of States\n",
    "states = ['sunny','cloudy','rainy']"
   ]
  },
  {
   "cell_type": "code",
   "execution_count": 27,
   "metadata": {},
   "outputs": [],
   "source": [
    "def weather_simulator(iterations):\n",
    "    # Initialize at random state\n",
    "    currState = random.choice(states)\n",
    "    weather = [currState]\n",
    "\n",
    "    for i in range(iterations-1):\n",
    "        if currState == 'sunny':\n",
    "            nextStateProb = transitionMatrix[0]\n",
    "        elif currState == 'cloudy':\n",
    "            nextStateProb = transitionMatrix[1]\n",
    "        elif currState == 'rainy':\n",
    "            nextStateProb = transitionMatrix[2]\n",
    "\n",
    "        # Get a random next state based on the current state\n",
    "        nextState = random.choices(states, nextStateProb)\n",
    "        weather.append(nextState[0])\n",
    "        \n",
    "        currState = nextState[0]\n",
    "        \n",
    "    return weather"
   ]
  },
  {
   "cell_type": "code",
   "execution_count": 66,
   "metadata": {},
   "outputs": [
    {
     "name": "stdout",
     "output_type": "stream",
     "text": [
      "['sunny', 'cloudy', 'rainy', 'rainy', 'cloudy']\n"
     ]
    }
   ],
   "source": [
    "# Simulate 20 days of weather based on the transition matrix\n",
    "weatherSequence = weather_simulator(5)\n",
    "print(weatherSequence)"
   ]
  },
  {
   "cell_type": "markdown",
   "metadata": {},
   "source": [
    "## Part 2c\n",
    "Use your simulator to determine the stationary distribution of this Markov chain. The stationary distribution measures the probability that a random day will be sunny, cloudy, or rainy."
   ]
  },
  {
   "cell_type": "code",
   "execution_count": 39,
   "metadata": {},
   "outputs": [],
   "source": [
    "# Count the number of occurrences of each weather state and divide by the total\n",
    "# to get the stationary distribution\n",
    "def stationary_distribution(sequence):\n",
    "    sunnyDays = sequence.count('sunny')\n",
    "    cloudyDays = sequence.count('cloudy')\n",
    "    rainyDays = sequence.count('rainy')\n",
    "\n",
    "    total = len(sequence)\n",
    "    return {\n",
    "        \"sunny\": sunnyDays/total,\n",
    "        \"cloudy\": cloudyDays/total,\n",
    "        \"rainy\": rainyDays/total\n",
    "    }"
   ]
  },
  {
   "cell_type": "code",
   "execution_count": 65,
   "metadata": {},
   "outputs": [
    {
     "name": "stdout",
     "output_type": "stream",
     "text": [
      "{'sunny': 0.6493, 'cloudy': 0.2827, 'rainy': 0.068}\n"
     ]
    }
   ],
   "source": [
    "weatherSequenceLong = weather_simulator(10000)\n",
    "print(stationary_distribution(weatherSequenceLong))"
   ]
  },
  {
   "cell_type": "markdown",
   "metadata": {},
   "source": [
    "## Part 2c Discussion\n",
    "#### (i)     How to initialize the simulation\n",
    "After defining the state transition matrix and the list of states, the weather simulation was initialized to a random state because the stationary distribution will arrive at the same value regardless of the initial state.\n",
    "\n",
    "(ii)    How many transitions should be considered before taking a result\n",
    "\n",
    "(iii)   How many simulation runs were conducted to arrive at the statistics for the stationary distribution"
   ]
  },
  {
   "cell_type": "markdown",
   "metadata": {},
   "source": [
    "## Part 2d\n",
    "Can you devise a closed-form solution to calculate the stationary distribution based on the state transition matrix above?\n",
    "\n",
    "Perform the diagonalization of the state matrix A to get the same result"
   ]
  },
  {
   "cell_type": "code",
   "execution_count": null,
   "metadata": {},
   "outputs": [],
   "source": []
  }
 ],
 "metadata": {
  "kernelspec": {
   "display_name": "Python 3",
   "language": "python",
   "name": "python3"
  },
  "language_info": {
   "codemirror_mode": {
    "name": "ipython",
    "version": 3
   },
   "file_extension": ".py",
   "mimetype": "text/x-python",
   "name": "python",
   "nbconvert_exporter": "python",
   "pygments_lexer": "ipython3",
   "version": "3.8.10"
  },
  "orig_nbformat": 4
 },
 "nbformat": 4,
 "nbformat_minor": 2
}
